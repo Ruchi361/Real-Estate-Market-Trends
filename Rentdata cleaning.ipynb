{
 "cells": [
  {
   "cell_type": "code",
   "execution_count": 1,
   "id": "539f7c99-99ed-44ef-8761-465cf0668a2f",
   "metadata": {},
   "outputs": [],
   "source": [
    "#Importing Librarues\n",
    "import pandas as pd \n",
    "import numpy as np "
   ]
  },
  {
   "cell_type": "code",
   "execution_count": 2,
   "id": "23ee6e13-e439-442b-96ab-bb82332012ca",
   "metadata": {},
   "outputs": [],
   "source": [
    "#loading data\n",
    "data=pd.read_csv('Rent_houses_dataset.csv')\n",
    "df1=pd.DataFrame(data)"
   ]
  },
  {
   "cell_type": "code",
   "execution_count": 3,
   "id": "bc7fb90d-553d-4b42-8885-4697fb1f1768",
   "metadata": {},
   "outputs": [
    {
     "data": {
      "text/html": [
       "<div>\n",
       "<style scoped>\n",
       "    .dataframe tbody tr th:only-of-type {\n",
       "        vertical-align: middle;\n",
       "    }\n",
       "\n",
       "    .dataframe tbody tr th {\n",
       "        vertical-align: top;\n",
       "    }\n",
       "\n",
       "    .dataframe thead th {\n",
       "        text-align: right;\n",
       "    }\n",
       "</style>\n",
       "<table border=\"1\" class=\"dataframe\">\n",
       "  <thead>\n",
       "    <tr style=\"text-align: right;\">\n",
       "      <th></th>\n",
       "      <th>House title</th>\n",
       "      <th>Builder</th>\n",
       "      <th>Furnishing</th>\n",
       "      <th>Bathroom</th>\n",
       "      <th>Tenant Prefered</th>\n",
       "      <th>Availability</th>\n",
       "      <th>Area</th>\n",
       "      <th>Floor</th>\n",
       "      <th>Property Facing</th>\n",
       "      <th>Notes</th>\n",
       "      <th>Rent</th>\n",
       "      <th>NearBy</th>\n",
       "      <th>Link</th>\n",
       "    </tr>\n",
       "  </thead>\n",
       "  <tbody>\n",
       "    <tr>\n",
       "      <th>0</th>\n",
       "      <td>3 BHK Flat for Rent in Hebbal, Bangalore</td>\n",
       "      <td>Godrej Woodsman Estate</td>\n",
       "      <td>Semi-Furnished</td>\n",
       "      <td>3</td>\n",
       "      <td>Bachelors/Family</td>\n",
       "      <td>Immediately</td>\n",
       "      <td>1632 sqft</td>\n",
       "      <td>6 out of 16</td>\n",
       "      <td>NaN</td>\n",
       "      <td>3 BHK, Multistorey Apartment is available for ...</td>\n",
       "      <td>₹56,000</td>\n",
       "      <td>1.9 Km from Kirloskar Tech Park, 0.1 Km from U...</td>\n",
       "      <td>https://www.magicbricks.com/propertyDetails/3-...</td>\n",
       "    </tr>\n",
       "    <tr>\n",
       "      <th>1</th>\n",
       "      <td>2 BHK Flat for Rent in Hebbal, Bangalore</td>\n",
       "      <td>Prestige Misty Waters</td>\n",
       "      <td>Semi-Furnished</td>\n",
       "      <td>2</td>\n",
       "      <td>Bachelors/Family</td>\n",
       "      <td>Immediately</td>\n",
       "      <td>820 sqft</td>\n",
       "      <td>12 out of 23</td>\n",
       "      <td>East Facing Property</td>\n",
       "      <td>Good ventilation and good interiors, well main...</td>\n",
       "      <td>₹41,000</td>\n",
       "      <td>1.9 Km from Kirloskar Tech Park, 0.1 Km from U...</td>\n",
       "      <td>https://www.magicbricks.com/propertyDetails/3-...</td>\n",
       "    </tr>\n",
       "    <tr>\n",
       "      <th>2</th>\n",
       "      <td>3 BHK Flat for Rent in Jakkur, Bangalore</td>\n",
       "      <td>Sobha HRC Pristine</td>\n",
       "      <td>Semi-Furnished</td>\n",
       "      <td>3</td>\n",
       "      <td>Bachelors/Family</td>\n",
       "      <td>Immediately</td>\n",
       "      <td>1400 sqft</td>\n",
       "      <td>17 out of 20</td>\n",
       "      <td>East Facing Property</td>\n",
       "      <td>Premium Property located in one of the prime l...</td>\n",
       "      <td>₹67,000</td>\n",
       "      <td>1.9 Km from Kirloskar Tech Park, 0.1 Km from U...</td>\n",
       "      <td>https://www.magicbricks.com/propertyDetails/3-...</td>\n",
       "    </tr>\n",
       "    <tr>\n",
       "      <th>3</th>\n",
       "      <td>4 BHK Flat for Rent in Hebbal, Bangalore</td>\n",
       "      <td>Embassy Lake Terraces</td>\n",
       "      <td>Semi-Furnished</td>\n",
       "      <td>5</td>\n",
       "      <td>Bachelors/Family</td>\n",
       "      <td>Immediately</td>\n",
       "      <td>4637 sqft</td>\n",
       "      <td>14 out of 21</td>\n",
       "      <td>NaN</td>\n",
       "      <td>4 BHK, Multistorey Apartment is available for ...</td>\n",
       "      <td>₹2.3 Lac</td>\n",
       "      <td>1.9 Km from Kirloskar Tech Park, 0.1 Km from U...</td>\n",
       "      <td>https://www.magicbricks.com/propertyDetails/3-...</td>\n",
       "    </tr>\n",
       "    <tr>\n",
       "      <th>4</th>\n",
       "      <td>3 BHK Flat for Rent in Kanakapura Road, Bangalore</td>\n",
       "      <td>Prestige Falcon City</td>\n",
       "      <td>Semi-Furnished</td>\n",
       "      <td>5</td>\n",
       "      <td>Bachelors</td>\n",
       "      <td>Immediately</td>\n",
       "      <td>1800 sqft</td>\n",
       "      <td>15 out of 32</td>\n",
       "      <td>NaN</td>\n",
       "      <td>club house and party hall clinic medical store...</td>\n",
       "      <td>₹75,000</td>\n",
       "      <td>1.9 Km from Kirloskar Tech Park, 0.1 Km from U...</td>\n",
       "      <td>https://www.magicbricks.com/propertyDetails/3-...</td>\n",
       "    </tr>\n",
       "  </tbody>\n",
       "</table>\n",
       "</div>"
      ],
      "text/plain": [
       "                                         House title                 Builder  \\\n",
       "0           3 BHK Flat for Rent in Hebbal, Bangalore  Godrej Woodsman Estate   \n",
       "1           2 BHK Flat for Rent in Hebbal, Bangalore   Prestige Misty Waters   \n",
       "2           3 BHK Flat for Rent in Jakkur, Bangalore      Sobha HRC Pristine   \n",
       "3           4 BHK Flat for Rent in Hebbal, Bangalore   Embassy Lake Terraces   \n",
       "4  3 BHK Flat for Rent in Kanakapura Road, Bangalore    Prestige Falcon City   \n",
       "\n",
       "       Furnishing  Bathroom   Tenant Prefered Availability       Area  \\\n",
       "0  Semi-Furnished         3  Bachelors/Family  Immediately  1632 sqft   \n",
       "1  Semi-Furnished         2  Bachelors/Family  Immediately   820 sqft   \n",
       "2  Semi-Furnished         3  Bachelors/Family  Immediately  1400 sqft   \n",
       "3  Semi-Furnished         5  Bachelors/Family  Immediately  4637 sqft   \n",
       "4  Semi-Furnished         5         Bachelors  Immediately  1800 sqft   \n",
       "\n",
       "          Floor       Property Facing  \\\n",
       "0   6 out of 16                   NaN   \n",
       "1  12 out of 23  East Facing Property   \n",
       "2  17 out of 20  East Facing Property   \n",
       "3  14 out of 21                   NaN   \n",
       "4  15 out of 32                   NaN   \n",
       "\n",
       "                                               Notes       Rent  \\\n",
       "0  3 BHK, Multistorey Apartment is available for ...    ₹56,000   \n",
       "1  Good ventilation and good interiors, well main...    ₹41,000   \n",
       "2  Premium Property located in one of the prime l...    ₹67,000   \n",
       "3  4 BHK, Multistorey Apartment is available for ...  ₹2.3 Lac    \n",
       "4  club house and party hall clinic medical store...    ₹75,000   \n",
       "\n",
       "                                              NearBy  \\\n",
       "0  1.9 Km from Kirloskar Tech Park, 0.1 Km from U...   \n",
       "1  1.9 Km from Kirloskar Tech Park, 0.1 Km from U...   \n",
       "2  1.9 Km from Kirloskar Tech Park, 0.1 Km from U...   \n",
       "3  1.9 Km from Kirloskar Tech Park, 0.1 Km from U...   \n",
       "4  1.9 Km from Kirloskar Tech Park, 0.1 Km from U...   \n",
       "\n",
       "                                                Link  \n",
       "0  https://www.magicbricks.com/propertyDetails/3-...  \n",
       "1  https://www.magicbricks.com/propertyDetails/3-...  \n",
       "2  https://www.magicbricks.com/propertyDetails/3-...  \n",
       "3  https://www.magicbricks.com/propertyDetails/3-...  \n",
       "4  https://www.magicbricks.com/propertyDetails/3-...  "
      ]
     },
     "execution_count": 3,
     "metadata": {},
     "output_type": "execute_result"
    }
   ],
   "source": [
    "df1.head()"
   ]
  },
  {
   "cell_type": "markdown",
   "id": "f30de11e-0121-487a-8901-b8d1f0d60193",
   "metadata": {},
   "source": [
    "## Data Cleaning"
   ]
  },
  {
   "cell_type": "code",
   "execution_count": 4,
   "id": "6d9119b3-a3c6-49cb-8374-9f62a588d57d",
   "metadata": {},
   "outputs": [
    {
     "data": {
      "text/plain": [
       "(1500, 13)"
      ]
     },
     "execution_count": 4,
     "metadata": {},
     "output_type": "execute_result"
    }
   ],
   "source": [
    "df1.shape"
   ]
  },
  {
   "cell_type": "code",
   "execution_count": 5,
   "id": "f5b0576d-f29c-4003-88de-658c3bbce553",
   "metadata": {},
   "outputs": [
    {
     "data": {
      "text/plain": [
       "True"
      ]
     },
     "execution_count": 5,
     "metadata": {},
     "output_type": "execute_result"
    }
   ],
   "source": [
    "df1.isna().sum().any()"
   ]
  },
  {
   "cell_type": "code",
   "execution_count": 6,
   "id": "b5b27549-5159-4749-8e5c-b244081b6f0c",
   "metadata": {},
   "outputs": [
    {
     "data": {
      "text/plain": [
       "House title           0\n",
       "Builder             250\n",
       "Furnishing            0\n",
       "Bathroom              0\n",
       "Tenant Prefered       0\n",
       "Availability          0\n",
       "Area                  0\n",
       "Floor                 0\n",
       "Property Facing    1000\n",
       "Notes                 0\n",
       "Rent                  0\n",
       "NearBy                0\n",
       "Link                  0\n",
       "dtype: int64"
      ]
     },
     "execution_count": 6,
     "metadata": {},
     "output_type": "execute_result"
    }
   ],
   "source": [
    "df1.isna().sum()"
   ]
  },
  {
   "cell_type": "code",
   "execution_count": 7,
   "id": "6df2871b-4f83-4580-908d-3f08dab05dff",
   "metadata": {},
   "outputs": [],
   "source": [
    "df1.rename(columns={'House title': 'HouseTitle'}, inplace=True)\n",
    "df1.rename(columns={'Tenant Prefered': 'TenantPrefered'}, inplace=True)\n",
    "df1.rename(columns={'Property Facing': 'PropertyFacing'}, inplace=True)\n",
    "df1.rename(columns={'Area':'Area_sqft'}, inplace=True)"
   ]
  },
  {
   "cell_type": "code",
   "execution_count": 8,
   "id": "d5b99bc1-67cf-4344-adb3-8550d1bdbe51",
   "metadata": {},
   "outputs": [],
   "source": [
    "df1['Builder']=df1['Builder'].fillna(\"Not Available\")"
   ]
  },
  {
   "cell_type": "code",
   "execution_count": 9,
   "id": "ceb3740c-b4b8-4b10-bd6f-d9ce9964dcb4",
   "metadata": {},
   "outputs": [],
   "source": [
    "df1['PropertyFacing']=df1['PropertyFacing'].fillna(\"Not Available\")"
   ]
  },
  {
   "cell_type": "code",
   "execution_count": 10,
   "id": "5de3b814-9824-45cb-b731-34561044f625",
   "metadata": {},
   "outputs": [],
   "source": [
    "df1['Rent']=df1['Rent'].str.replace(',', '')\n",
    "df1['Rent']=df1['Rent'].str.replace('₹', '')\n",
    "df1['Rent'] = df1['Rent'].apply(lambda x: float(x.replace('Lac', '')) * 100000 if 'Lac' in x else float(x))"
   ]
  },
  {
   "cell_type": "code",
   "execution_count": 11,
   "id": "1eb678e3-05ce-466e-bed8-48ac5286a032",
   "metadata": {},
   "outputs": [
    {
     "data": {
      "text/plain": [
       "0        56000.0\n",
       "1        41000.0\n",
       "2        67000.0\n",
       "3       230000.0\n",
       "4        75000.0\n",
       "          ...   \n",
       "1495     80000.0\n",
       "1496    400000.0\n",
       "1497     24000.0\n",
       "1498    280000.0\n",
       "1499     40000.0\n",
       "Name: Rent, Length: 1500, dtype: float64"
      ]
     },
     "execution_count": 11,
     "metadata": {},
     "output_type": "execute_result"
    }
   ],
   "source": [
    "df1['Rent']"
   ]
  },
  {
   "cell_type": "code",
   "execution_count": 12,
   "id": "f1477d6f-297f-462f-a859-37fe39aae059",
   "metadata": {},
   "outputs": [],
   "source": [
    "df1['Area_sqft']=df1['Area_sqft'].str.replace('sqft','')"
   ]
  },
  {
   "cell_type": "code",
   "execution_count": 13,
   "id": "8de205ae-aeac-4497-8fe9-115700f5ef1f",
   "metadata": {},
   "outputs": [],
   "source": [
    "df1['Area_sqft']=df1['Area_sqft'].astype('int')"
   ]
  },
  {
   "cell_type": "code",
   "execution_count": 14,
   "id": "7eb894aa-6f47-44d3-ac6b-b2d40c041032",
   "metadata": {},
   "outputs": [],
   "source": [
    "df_split=df1['HouseTitle'].str.split(\" \",expand=True)"
   ]
  },
  {
   "cell_type": "code",
   "execution_count": 15,
   "id": "57f1e782-3be5-4c13-920a-af8497f35896",
   "metadata": {},
   "outputs": [],
   "source": [
    "df1['Location']=df_split[6]+\" \"+df_split[7]"
   ]
  },
  {
   "cell_type": "code",
   "execution_count": 16,
   "id": "30c162a7-4858-48a9-8ec1-55a0b40cfdc1",
   "metadata": {},
   "outputs": [],
   "source": [
    "x=df1['HouseTitle'].str.split(\" \",expand=True)"
   ]
  },
  {
   "cell_type": "code",
   "execution_count": 17,
   "id": "ff595da7-0249-4360-a369-3c4b4dbaaf9c",
   "metadata": {},
   "outputs": [],
   "source": [
    "df1['House Size']=x[0]+\" \"+x[1]"
   ]
  },
  {
   "cell_type": "code",
   "execution_count": 18,
   "id": "0540b953-fbba-41f7-8a34-829ff0e19ed1",
   "metadata": {},
   "outputs": [
    {
     "data": {
      "text/plain": [
       "Index(['HouseTitle', 'Builder', 'Furnishing', 'Bathroom', 'TenantPrefered',\n",
       "       'Availability', 'Area_sqft', 'Floor', 'PropertyFacing', 'Notes', 'Rent',\n",
       "       'NearBy', 'Link', 'Location', 'House Size'],\n",
       "      dtype='object')"
      ]
     },
     "execution_count": 18,
     "metadata": {},
     "output_type": "execute_result"
    }
   ],
   "source": [
    "df1.columns"
   ]
  },
  {
   "cell_type": "code",
   "execution_count": 19,
   "id": "31db404a-fd5f-48ee-88e1-fd5ec0cc640d",
   "metadata": {},
   "outputs": [],
   "source": [
    "df1=df1.drop('Notes',axis=1)"
   ]
  },
  {
   "cell_type": "code",
   "execution_count": 20,
   "id": "d1a286b4-3fe6-4573-871a-fb466f100bfc",
   "metadata": {},
   "outputs": [],
   "source": [
    "df1=df1.drop('HouseTitle',axis=1)"
   ]
  },
  {
   "cell_type": "code",
   "execution_count": 21,
   "id": "7820f4bb-a31f-42d1-8702-4e27ce5505b1",
   "metadata": {},
   "outputs": [
    {
     "data": {
      "text/html": [
       "<div>\n",
       "<style scoped>\n",
       "    .dataframe tbody tr th:only-of-type {\n",
       "        vertical-align: middle;\n",
       "    }\n",
       "\n",
       "    .dataframe tbody tr th {\n",
       "        vertical-align: top;\n",
       "    }\n",
       "\n",
       "    .dataframe thead th {\n",
       "        text-align: right;\n",
       "    }\n",
       "</style>\n",
       "<table border=\"1\" class=\"dataframe\">\n",
       "  <thead>\n",
       "    <tr style=\"text-align: right;\">\n",
       "      <th></th>\n",
       "      <th>Builder</th>\n",
       "      <th>Furnishing</th>\n",
       "      <th>Bathroom</th>\n",
       "      <th>TenantPrefered</th>\n",
       "      <th>Availability</th>\n",
       "      <th>Area_sqft</th>\n",
       "      <th>Floor</th>\n",
       "      <th>PropertyFacing</th>\n",
       "      <th>Rent</th>\n",
       "      <th>NearBy</th>\n",
       "      <th>Link</th>\n",
       "      <th>Location</th>\n",
       "      <th>House Size</th>\n",
       "    </tr>\n",
       "  </thead>\n",
       "  <tbody>\n",
       "    <tr>\n",
       "      <th>0</th>\n",
       "      <td>Godrej Woodsman Estate</td>\n",
       "      <td>Semi-Furnished</td>\n",
       "      <td>3</td>\n",
       "      <td>Bachelors/Family</td>\n",
       "      <td>Immediately</td>\n",
       "      <td>1632</td>\n",
       "      <td>6 out of 16</td>\n",
       "      <td>Not Available</td>\n",
       "      <td>56000.0</td>\n",
       "      <td>1.9 Km from Kirloskar Tech Park, 0.1 Km from U...</td>\n",
       "      <td>https://www.magicbricks.com/propertyDetails/3-...</td>\n",
       "      <td>Hebbal, Bangalore</td>\n",
       "      <td>3 BHK</td>\n",
       "    </tr>\n",
       "    <tr>\n",
       "      <th>1</th>\n",
       "      <td>Prestige Misty Waters</td>\n",
       "      <td>Semi-Furnished</td>\n",
       "      <td>2</td>\n",
       "      <td>Bachelors/Family</td>\n",
       "      <td>Immediately</td>\n",
       "      <td>820</td>\n",
       "      <td>12 out of 23</td>\n",
       "      <td>East Facing Property</td>\n",
       "      <td>41000.0</td>\n",
       "      <td>1.9 Km from Kirloskar Tech Park, 0.1 Km from U...</td>\n",
       "      <td>https://www.magicbricks.com/propertyDetails/3-...</td>\n",
       "      <td>Hebbal, Bangalore</td>\n",
       "      <td>2 BHK</td>\n",
       "    </tr>\n",
       "    <tr>\n",
       "      <th>2</th>\n",
       "      <td>Sobha HRC Pristine</td>\n",
       "      <td>Semi-Furnished</td>\n",
       "      <td>3</td>\n",
       "      <td>Bachelors/Family</td>\n",
       "      <td>Immediately</td>\n",
       "      <td>1400</td>\n",
       "      <td>17 out of 20</td>\n",
       "      <td>East Facing Property</td>\n",
       "      <td>67000.0</td>\n",
       "      <td>1.9 Km from Kirloskar Tech Park, 0.1 Km from U...</td>\n",
       "      <td>https://www.magicbricks.com/propertyDetails/3-...</td>\n",
       "      <td>Jakkur, Bangalore</td>\n",
       "      <td>3 BHK</td>\n",
       "    </tr>\n",
       "    <tr>\n",
       "      <th>3</th>\n",
       "      <td>Embassy Lake Terraces</td>\n",
       "      <td>Semi-Furnished</td>\n",
       "      <td>5</td>\n",
       "      <td>Bachelors/Family</td>\n",
       "      <td>Immediately</td>\n",
       "      <td>4637</td>\n",
       "      <td>14 out of 21</td>\n",
       "      <td>Not Available</td>\n",
       "      <td>230000.0</td>\n",
       "      <td>1.9 Km from Kirloskar Tech Park, 0.1 Km from U...</td>\n",
       "      <td>https://www.magicbricks.com/propertyDetails/3-...</td>\n",
       "      <td>Hebbal, Bangalore</td>\n",
       "      <td>4 BHK</td>\n",
       "    </tr>\n",
       "    <tr>\n",
       "      <th>4</th>\n",
       "      <td>Prestige Falcon City</td>\n",
       "      <td>Semi-Furnished</td>\n",
       "      <td>5</td>\n",
       "      <td>Bachelors</td>\n",
       "      <td>Immediately</td>\n",
       "      <td>1800</td>\n",
       "      <td>15 out of 32</td>\n",
       "      <td>Not Available</td>\n",
       "      <td>75000.0</td>\n",
       "      <td>1.9 Km from Kirloskar Tech Park, 0.1 Km from U...</td>\n",
       "      <td>https://www.magicbricks.com/propertyDetails/3-...</td>\n",
       "      <td>Kanakapura Road,</td>\n",
       "      <td>3 BHK</td>\n",
       "    </tr>\n",
       "  </tbody>\n",
       "</table>\n",
       "</div>"
      ],
      "text/plain": [
       "                  Builder      Furnishing  Bathroom    TenantPrefered  \\\n",
       "0  Godrej Woodsman Estate  Semi-Furnished         3  Bachelors/Family   \n",
       "1   Prestige Misty Waters  Semi-Furnished         2  Bachelors/Family   \n",
       "2      Sobha HRC Pristine  Semi-Furnished         3  Bachelors/Family   \n",
       "3   Embassy Lake Terraces  Semi-Furnished         5  Bachelors/Family   \n",
       "4    Prestige Falcon City  Semi-Furnished         5         Bachelors   \n",
       "\n",
       "  Availability  Area_sqft         Floor        PropertyFacing      Rent  \\\n",
       "0  Immediately       1632   6 out of 16         Not Available   56000.0   \n",
       "1  Immediately        820  12 out of 23  East Facing Property   41000.0   \n",
       "2  Immediately       1400  17 out of 20  East Facing Property   67000.0   \n",
       "3  Immediately       4637  14 out of 21         Not Available  230000.0   \n",
       "4  Immediately       1800  15 out of 32         Not Available   75000.0   \n",
       "\n",
       "                                              NearBy  \\\n",
       "0  1.9 Km from Kirloskar Tech Park, 0.1 Km from U...   \n",
       "1  1.9 Km from Kirloskar Tech Park, 0.1 Km from U...   \n",
       "2  1.9 Km from Kirloskar Tech Park, 0.1 Km from U...   \n",
       "3  1.9 Km from Kirloskar Tech Park, 0.1 Km from U...   \n",
       "4  1.9 Km from Kirloskar Tech Park, 0.1 Km from U...   \n",
       "\n",
       "                                                Link           Location  \\\n",
       "0  https://www.magicbricks.com/propertyDetails/3-...  Hebbal, Bangalore   \n",
       "1  https://www.magicbricks.com/propertyDetails/3-...  Hebbal, Bangalore   \n",
       "2  https://www.magicbricks.com/propertyDetails/3-...  Jakkur, Bangalore   \n",
       "3  https://www.magicbricks.com/propertyDetails/3-...  Hebbal, Bangalore   \n",
       "4  https://www.magicbricks.com/propertyDetails/3-...   Kanakapura Road,   \n",
       "\n",
       "  House Size  \n",
       "0      3 BHK  \n",
       "1      2 BHK  \n",
       "2      3 BHK  \n",
       "3      4 BHK  \n",
       "4      3 BHK  "
      ]
     },
     "execution_count": 21,
     "metadata": {},
     "output_type": "execute_result"
    }
   ],
   "source": [
    "df1.head()"
   ]
  },
  {
   "cell_type": "code",
   "execution_count": 23,
   "id": "e1fd4118-3d99-4c89-8167-183c952aea75",
   "metadata": {},
   "outputs": [],
   "source": [
    "#filling nan\n",
    "df1['Builder']=df1['Builder'].fillna(\"Not Available\")\n",
    "df1['PropertyFacing']=df1['PropertyFacing'].fillna(\"Not Available\")"
   ]
  },
  {
   "cell_type": "code",
   "execution_count": 24,
   "id": "cd351a72-4541-40bf-b74b-0a076114023a",
   "metadata": {},
   "outputs": [
    {
     "data": {
      "text/plain": [
       "Builder           0\n",
       "Furnishing        0\n",
       "Bathroom          0\n",
       "TenantPrefered    0\n",
       "Availability      0\n",
       "Area_sqft         0\n",
       "Floor             0\n",
       "PropertyFacing    0\n",
       "Rent              0\n",
       "NearBy            0\n",
       "Link              0\n",
       "Location          0\n",
       "House Size        0\n",
       "dtype: int64"
      ]
     },
     "execution_count": 24,
     "metadata": {},
     "output_type": "execute_result"
    }
   ],
   "source": [
    "df1.isnull().sum()"
   ]
  },
  {
   "cell_type": "code",
   "execution_count": 25,
   "id": "21e4f3ff-f0e1-4647-a3a9-30841bedd4a3",
   "metadata": {},
   "outputs": [
    {
     "data": {
      "text/html": [
       "<div>\n",
       "<style scoped>\n",
       "    .dataframe tbody tr th:only-of-type {\n",
       "        vertical-align: middle;\n",
       "    }\n",
       "\n",
       "    .dataframe tbody tr th {\n",
       "        vertical-align: top;\n",
       "    }\n",
       "\n",
       "    .dataframe thead th {\n",
       "        text-align: right;\n",
       "    }\n",
       "</style>\n",
       "<table border=\"1\" class=\"dataframe\">\n",
       "  <thead>\n",
       "    <tr style=\"text-align: right;\">\n",
       "      <th></th>\n",
       "      <th>Builder</th>\n",
       "      <th>Furnishing</th>\n",
       "      <th>Bathroom</th>\n",
       "      <th>TenantPrefered</th>\n",
       "      <th>Availability</th>\n",
       "      <th>Area_sqft</th>\n",
       "      <th>Floor</th>\n",
       "      <th>PropertyFacing</th>\n",
       "      <th>Rent</th>\n",
       "      <th>NearBy</th>\n",
       "      <th>Link</th>\n",
       "      <th>Location</th>\n",
       "      <th>House Size</th>\n",
       "    </tr>\n",
       "  </thead>\n",
       "  <tbody>\n",
       "    <tr>\n",
       "      <th>0</th>\n",
       "      <td>Godrej Woodsman Estate</td>\n",
       "      <td>Semi-Furnished</td>\n",
       "      <td>3</td>\n",
       "      <td>Bachelors/Family</td>\n",
       "      <td>Immediately</td>\n",
       "      <td>1632</td>\n",
       "      <td>6 out of 16</td>\n",
       "      <td>Not Available</td>\n",
       "      <td>56000.0</td>\n",
       "      <td>1.9 Km from Kirloskar Tech Park, 0.1 Km from U...</td>\n",
       "      <td>https://www.magicbricks.com/propertyDetails/3-...</td>\n",
       "      <td>Hebbal, Bangalore</td>\n",
       "      <td>3 BHK</td>\n",
       "    </tr>\n",
       "    <tr>\n",
       "      <th>1</th>\n",
       "      <td>Prestige Misty Waters</td>\n",
       "      <td>Semi-Furnished</td>\n",
       "      <td>2</td>\n",
       "      <td>Bachelors/Family</td>\n",
       "      <td>Immediately</td>\n",
       "      <td>820</td>\n",
       "      <td>12 out of 23</td>\n",
       "      <td>East Facing Property</td>\n",
       "      <td>41000.0</td>\n",
       "      <td>1.9 Km from Kirloskar Tech Park, 0.1 Km from U...</td>\n",
       "      <td>https://www.magicbricks.com/propertyDetails/3-...</td>\n",
       "      <td>Hebbal, Bangalore</td>\n",
       "      <td>2 BHK</td>\n",
       "    </tr>\n",
       "    <tr>\n",
       "      <th>2</th>\n",
       "      <td>Sobha HRC Pristine</td>\n",
       "      <td>Semi-Furnished</td>\n",
       "      <td>3</td>\n",
       "      <td>Bachelors/Family</td>\n",
       "      <td>Immediately</td>\n",
       "      <td>1400</td>\n",
       "      <td>17 out of 20</td>\n",
       "      <td>East Facing Property</td>\n",
       "      <td>67000.0</td>\n",
       "      <td>1.9 Km from Kirloskar Tech Park, 0.1 Km from U...</td>\n",
       "      <td>https://www.magicbricks.com/propertyDetails/3-...</td>\n",
       "      <td>Jakkur, Bangalore</td>\n",
       "      <td>3 BHK</td>\n",
       "    </tr>\n",
       "    <tr>\n",
       "      <th>3</th>\n",
       "      <td>Embassy Lake Terraces</td>\n",
       "      <td>Semi-Furnished</td>\n",
       "      <td>5</td>\n",
       "      <td>Bachelors/Family</td>\n",
       "      <td>Immediately</td>\n",
       "      <td>4637</td>\n",
       "      <td>14 out of 21</td>\n",
       "      <td>Not Available</td>\n",
       "      <td>230000.0</td>\n",
       "      <td>1.9 Km from Kirloskar Tech Park, 0.1 Km from U...</td>\n",
       "      <td>https://www.magicbricks.com/propertyDetails/3-...</td>\n",
       "      <td>Hebbal, Bangalore</td>\n",
       "      <td>4 BHK</td>\n",
       "    </tr>\n",
       "    <tr>\n",
       "      <th>4</th>\n",
       "      <td>Prestige Falcon City</td>\n",
       "      <td>Semi-Furnished</td>\n",
       "      <td>5</td>\n",
       "      <td>Bachelors</td>\n",
       "      <td>Immediately</td>\n",
       "      <td>1800</td>\n",
       "      <td>15 out of 32</td>\n",
       "      <td>Not Available</td>\n",
       "      <td>75000.0</td>\n",
       "      <td>1.9 Km from Kirloskar Tech Park, 0.1 Km from U...</td>\n",
       "      <td>https://www.magicbricks.com/propertyDetails/3-...</td>\n",
       "      <td>Kanakapura Road,</td>\n",
       "      <td>3 BHK</td>\n",
       "    </tr>\n",
       "  </tbody>\n",
       "</table>\n",
       "</div>"
      ],
      "text/plain": [
       "                  Builder      Furnishing  Bathroom    TenantPrefered  \\\n",
       "0  Godrej Woodsman Estate  Semi-Furnished         3  Bachelors/Family   \n",
       "1   Prestige Misty Waters  Semi-Furnished         2  Bachelors/Family   \n",
       "2      Sobha HRC Pristine  Semi-Furnished         3  Bachelors/Family   \n",
       "3   Embassy Lake Terraces  Semi-Furnished         5  Bachelors/Family   \n",
       "4    Prestige Falcon City  Semi-Furnished         5         Bachelors   \n",
       "\n",
       "  Availability  Area_sqft         Floor        PropertyFacing      Rent  \\\n",
       "0  Immediately       1632   6 out of 16         Not Available   56000.0   \n",
       "1  Immediately        820  12 out of 23  East Facing Property   41000.0   \n",
       "2  Immediately       1400  17 out of 20  East Facing Property   67000.0   \n",
       "3  Immediately       4637  14 out of 21         Not Available  230000.0   \n",
       "4  Immediately       1800  15 out of 32         Not Available   75000.0   \n",
       "\n",
       "                                              NearBy  \\\n",
       "0  1.9 Km from Kirloskar Tech Park, 0.1 Km from U...   \n",
       "1  1.9 Km from Kirloskar Tech Park, 0.1 Km from U...   \n",
       "2  1.9 Km from Kirloskar Tech Park, 0.1 Km from U...   \n",
       "3  1.9 Km from Kirloskar Tech Park, 0.1 Km from U...   \n",
       "4  1.9 Km from Kirloskar Tech Park, 0.1 Km from U...   \n",
       "\n",
       "                                                Link           Location  \\\n",
       "0  https://www.magicbricks.com/propertyDetails/3-...  Hebbal, Bangalore   \n",
       "1  https://www.magicbricks.com/propertyDetails/3-...  Hebbal, Bangalore   \n",
       "2  https://www.magicbricks.com/propertyDetails/3-...  Jakkur, Bangalore   \n",
       "3  https://www.magicbricks.com/propertyDetails/3-...  Hebbal, Bangalore   \n",
       "4  https://www.magicbricks.com/propertyDetails/3-...   Kanakapura Road,   \n",
       "\n",
       "  House Size  \n",
       "0      3 BHK  \n",
       "1      2 BHK  \n",
       "2      3 BHK  \n",
       "3      4 BHK  \n",
       "4      3 BHK  "
      ]
     },
     "execution_count": 25,
     "metadata": {},
     "output_type": "execute_result"
    }
   ],
   "source": [
    "df1.head()"
   ]
  },
  {
   "cell_type": "code",
   "execution_count": 26,
   "id": "46354d76-9648-4300-a166-bf1ece48ad81",
   "metadata": {},
   "outputs": [],
   "source": [
    "df1.to_csv(\"Table1.csv\")"
   ]
  },
  {
   "cell_type": "code",
   "execution_count": null,
   "id": "3ff04525-5eaf-402e-a21e-70d612afc880",
   "metadata": {},
   "outputs": [],
   "source": []
  },
  {
   "cell_type": "code",
   "execution_count": null,
   "id": "9113a7c2-e65b-4893-a5a0-f19b91a51f98",
   "metadata": {},
   "outputs": [],
   "source": []
  }
 ],
 "metadata": {
  "kernelspec": {
   "display_name": "Python 3 (ipykernel)",
   "language": "python",
   "name": "python3"
  },
  "language_info": {
   "codemirror_mode": {
    "name": "ipython",
    "version": 3
   },
   "file_extension": ".py",
   "mimetype": "text/x-python",
   "name": "python",
   "nbconvert_exporter": "python",
   "pygments_lexer": "ipython3",
   "version": "3.11.7"
  }
 },
 "nbformat": 4,
 "nbformat_minor": 5
}
